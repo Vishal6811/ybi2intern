{
 "cells": [
  {
   "cell_type": "markdown",
   "metadata": {
    "id": "2qdWr3bSoXC5"
   },
   "source": [
    "# Financial Market Sentiment Analysis"
   ]
  },
  {
   "cell_type": "markdown",
   "metadata": {
    "id": "pWMQoEUuxnId"
   },
   "source": [
    "## Ojective\n",
    "#### To develop a model which predict the overall sentiments using Top 25 Financial Market News for each day."
   ]
  },
  {
   "cell_type": "markdown",
   "metadata": {
    "id": "y6ZjYqZyx6hN"
   },
   "source": [
    "## Data Source\n",
    "#### The dataset is provided by YBI - Founadation. To check dataset, visit https://raw.githubusercontent.com/YBI-Foundation/Dataset/main/Financial%20Market%20News.csv ."
   ]
  },
  {
   "cell_type": "markdown",
   "metadata": {
    "id": "Ge7RARDCq0rr"
   },
   "source": [
    "### Import Library"
   ]
  },
  {
   "cell_type": "code",
   "execution_count": 1,
   "metadata": {
    "id": "TwkQ1xYdq3Zi"
   },
   "outputs": [],
   "source": [
    "import pandas as pd"
   ]
  },
  {
   "cell_type": "code",
   "execution_count": 2,
   "metadata": {
    "id": "dUTNSj6HrD0E"
   },
   "outputs": [],
   "source": [
    "import numpy as np"
   ]
  },
  {
   "cell_type": "markdown",
   "metadata": {
    "id": "XpUDfSpwrGze"
   },
   "source": [
    "### Import Data"
   ]
  },
  {
   "cell_type": "code",
   "execution_count": 3,
   "metadata": {
    "id": "2x2POH63rJaZ"
   },
   "outputs": [],
   "source": [
    "df = pd.read_csv('https://raw.githubusercontent.com/YBI-Foundation/Dataset/main/Financial%20Market%20News.csv',encoding='ISO-8859-1')"
   ]
  },
  {
   "cell_type": "markdown",
   "metadata": {
    "id": "1Y9OuafjyTeC"
   },
   "source": [
    "## Describe Data\n",
    "#### The dataset contains 27 columns.These are Date, Label, News 1,News 2, ... , News 25. Label is defined to be 0 or 1.If it is 0 , market falls otherwise it remains same or grow."
   ]
  },
  {
   "cell_type": "code",
   "execution_count": 4,
   "metadata": {
    "id": "RcvVNbUGs_Lm",
    "outputId": "eb6828cf-5134-4e18-bb79-f02cc7e00ab8"
   },
   "outputs": [
    {
     "name": "stdout",
     "output_type": "stream",
     "text": [
      "<class 'pandas.core.frame.DataFrame'>\n",
      "RangeIndex: 4101 entries, 0 to 4100\n",
      "Data columns (total 27 columns):\n",
      " #   Column   Non-Null Count  Dtype \n",
      "---  ------   --------------  ----- \n",
      " 0   Date     4101 non-null   object\n",
      " 1   Label    4101 non-null   int64 \n",
      " 2   News 1   4101 non-null   object\n",
      " 3   News 2   4101 non-null   object\n",
      " 4   News 3   4101 non-null   object\n",
      " 5   News 4   4101 non-null   object\n",
      " 6   News 5   4101 non-null   object\n",
      " 7   News 6   4101 non-null   object\n",
      " 8   News 7   4101 non-null   object\n",
      " 9   News 8   4101 non-null   object\n",
      " 10  News 9   4101 non-null   object\n",
      " 11  News 10  4101 non-null   object\n",
      " 12  News 11  4101 non-null   object\n",
      " 13  News 12  4101 non-null   object\n",
      " 14  News 13  4101 non-null   object\n",
      " 15  News 14  4101 non-null   object\n",
      " 16  News 15  4101 non-null   object\n",
      " 17  News 16  4101 non-null   object\n",
      " 18  News 17  4101 non-null   object\n",
      " 19  News 18  4101 non-null   object\n",
      " 20  News 19  4101 non-null   object\n",
      " 21  News 20  4101 non-null   object\n",
      " 22  News 21  4101 non-null   object\n",
      " 23  News 22  4101 non-null   object\n",
      " 24  News 23  4100 non-null   object\n",
      " 25  News 24  4098 non-null   object\n",
      " 26  News 25  4098 non-null   object\n",
      "dtypes: int64(1), object(26)\n",
      "memory usage: 865.2+ KB\n"
     ]
    }
   ],
   "source": [
    "df.info()"
   ]
  },
  {
   "cell_type": "code",
   "execution_count": 5,
   "metadata": {
    "id": "eKzkIXITtIZ9",
    "outputId": "bf30a784-3ac9-4c29-8126-4eb33df2dfe7"
   },
   "outputs": [
    {
     "data": {
      "text/html": [
       "<div>\n",
       "<style scoped>\n",
       "    .dataframe tbody tr th:only-of-type {\n",
       "        vertical-align: middle;\n",
       "    }\n",
       "\n",
       "    .dataframe tbody tr th {\n",
       "        vertical-align: top;\n",
       "    }\n",
       "\n",
       "    .dataframe thead th {\n",
       "        text-align: right;\n",
       "    }\n",
       "</style>\n",
       "<table border=\"1\" class=\"dataframe\">\n",
       "  <thead>\n",
       "    <tr style=\"text-align: right;\">\n",
       "      <th></th>\n",
       "      <th>Label</th>\n",
       "    </tr>\n",
       "  </thead>\n",
       "  <tbody>\n",
       "    <tr>\n",
       "      <th>count</th>\n",
       "      <td>4101.000000</td>\n",
       "    </tr>\n",
       "    <tr>\n",
       "      <th>mean</th>\n",
       "      <td>0.528164</td>\n",
       "    </tr>\n",
       "    <tr>\n",
       "      <th>std</th>\n",
       "      <td>0.499267</td>\n",
       "    </tr>\n",
       "    <tr>\n",
       "      <th>min</th>\n",
       "      <td>0.000000</td>\n",
       "    </tr>\n",
       "    <tr>\n",
       "      <th>25%</th>\n",
       "      <td>0.000000</td>\n",
       "    </tr>\n",
       "    <tr>\n",
       "      <th>50%</th>\n",
       "      <td>1.000000</td>\n",
       "    </tr>\n",
       "    <tr>\n",
       "      <th>75%</th>\n",
       "      <td>1.000000</td>\n",
       "    </tr>\n",
       "    <tr>\n",
       "      <th>max</th>\n",
       "      <td>1.000000</td>\n",
       "    </tr>\n",
       "  </tbody>\n",
       "</table>\n",
       "</div>"
      ],
      "text/plain": [
       "             Label\n",
       "count  4101.000000\n",
       "mean      0.528164\n",
       "std       0.499267\n",
       "min       0.000000\n",
       "25%       0.000000\n",
       "50%       1.000000\n",
       "75%       1.000000\n",
       "max       1.000000"
      ]
     },
     "execution_count": 5,
     "metadata": {},
     "output_type": "execute_result"
    }
   ],
   "source": [
    "df.describe()"
   ]
  },
  {
   "cell_type": "code",
   "execution_count": 6,
   "metadata": {
    "id": "07qq-CcLtJ2q",
    "outputId": "ec657935-a6f8-4642-c9f1-accf60c02d0d"
   },
   "outputs": [
    {
     "data": {
      "text/plain": [
       "(4101, 27)"
      ]
     },
     "execution_count": 6,
     "metadata": {},
     "output_type": "execute_result"
    }
   ],
   "source": [
    "df.shape"
   ]
  },
  {
   "cell_type": "code",
   "execution_count": 7,
   "metadata": {
    "id": "qFu0GHAwtQyG",
    "outputId": "8e21ae10-8f31-4799-e164-0f454011bf46"
   },
   "outputs": [
    {
     "data": {
      "text/plain": [
       "Index(['Date', 'Label', 'News 1', 'News 2', 'News 3', 'News 4', 'News 5',\n",
       "       'News 6', 'News 7', 'News 8', 'News 9', 'News 10', 'News 11', 'News 12',\n",
       "       'News 13', 'News 14', 'News 15', 'News 16', 'News 17', 'News 18',\n",
       "       'News 19', 'News 20', 'News 21', 'News 22', 'News 23', 'News 24',\n",
       "       'News 25'],\n",
       "      dtype='object')"
      ]
     },
     "execution_count": 7,
     "metadata": {},
     "output_type": "execute_result"
    }
   ],
   "source": [
    "df.columns"
   ]
  },
  {
   "cell_type": "markdown",
   "metadata": {
    "id": "csMo7Mo7ywko"
   },
   "source": [
    "## Data Visualization"
   ]
  },
  {
   "cell_type": "code",
   "execution_count": 8,
   "metadata": {
    "id": "Lp7ZLrVWy0Cz",
    "outputId": "db94dc53-bf83-44a5-f47e-73ef1855c569"
   },
   "outputs": [
    {
     "data": {
      "text/html": [
       "<div>\n",
       "<style scoped>\n",
       "    .dataframe tbody tr th:only-of-type {\n",
       "        vertical-align: middle;\n",
       "    }\n",
       "\n",
       "    .dataframe tbody tr th {\n",
       "        vertical-align: top;\n",
       "    }\n",
       "\n",
       "    .dataframe thead th {\n",
       "        text-align: right;\n",
       "    }\n",
       "</style>\n",
       "<table border=\"1\" class=\"dataframe\">\n",
       "  <thead>\n",
       "    <tr style=\"text-align: right;\">\n",
       "      <th></th>\n",
       "      <th>Date</th>\n",
       "      <th>Label</th>\n",
       "      <th>News 1</th>\n",
       "      <th>News 2</th>\n",
       "      <th>News 3</th>\n",
       "      <th>News 4</th>\n",
       "      <th>News 5</th>\n",
       "      <th>News 6</th>\n",
       "      <th>News 7</th>\n",
       "      <th>News 8</th>\n",
       "      <th>...</th>\n",
       "      <th>News 16</th>\n",
       "      <th>News 17</th>\n",
       "      <th>News 18</th>\n",
       "      <th>News 19</th>\n",
       "      <th>News 20</th>\n",
       "      <th>News 21</th>\n",
       "      <th>News 22</th>\n",
       "      <th>News 23</th>\n",
       "      <th>News 24</th>\n",
       "      <th>News 25</th>\n",
       "    </tr>\n",
       "  </thead>\n",
       "  <tbody>\n",
       "    <tr>\n",
       "      <th>0</th>\n",
       "      <td>01-01-2010</td>\n",
       "      <td>0</td>\n",
       "      <td>McIlroy's men catch cold from Gudjonsson</td>\n",
       "      <td>Obituary: Brian Walsh</td>\n",
       "      <td>Workplace blues leave employers in the red</td>\n",
       "      <td>Classical review: Rattle</td>\n",
       "      <td>Dance review: Merce Cunningham</td>\n",
       "      <td>Genetic tests to be used in setting premiums</td>\n",
       "      <td>Opera review: La Bohème</td>\n",
       "      <td>Pop review: Britney Spears</td>\n",
       "      <td>...</td>\n",
       "      <td>Finland 0 - 0 England</td>\n",
       "      <td>Healy a marked man</td>\n",
       "      <td>Happy birthday Harpers &amp; Queen</td>\n",
       "      <td>Win unlimited access to the Raindance film fes...</td>\n",
       "      <td>Labour pledges £800m to bridge north-south divide</td>\n",
       "      <td>Wales: Lib-Lab pact firm despite resignation</td>\n",
       "      <td>Donald Dewar</td>\n",
       "      <td>Regenerating homes  regenerates well-being in ...</td>\n",
       "      <td>Win £100 worth of underwear</td>\n",
       "      <td>TV guide: Random views</td>\n",
       "    </tr>\n",
       "    <tr>\n",
       "      <th>1</th>\n",
       "      <td>02-01-2010</td>\n",
       "      <td>0</td>\n",
       "      <td>Warning from history points to crash</td>\n",
       "      <td>Investors flee to dollar haven</td>\n",
       "      <td>Banks and tobacco in favour</td>\n",
       "      <td>Review: Llama Farmers</td>\n",
       "      <td>War jitters lead to sell-off</td>\n",
       "      <td>Your not-so-secret history</td>\n",
       "      <td>Review: The Northern Sinfonia</td>\n",
       "      <td>Review: Hysteria</td>\n",
       "      <td>...</td>\n",
       "      <td>Why Wenger will stick to his Gunners</td>\n",
       "      <td>Out of luck England hit rock bottom</td>\n",
       "      <td>Wilkinson out of his depth</td>\n",
       "      <td>Kinsella sparks Irish power play</td>\n",
       "      <td>Brown banished as Scots rebound</td>\n",
       "      <td>Battling Wales cling to lifeline</td>\n",
       "      <td>Ehiogu close to sealing Boro move</td>\n",
       "      <td>Man-to-man marking</td>\n",
       "      <td>Match stats</td>\n",
       "      <td>French referee at centre of storm is no strang...</td>\n",
       "    </tr>\n",
       "    <tr>\n",
       "      <th>2</th>\n",
       "      <td>03-01-2010</td>\n",
       "      <td>0</td>\n",
       "      <td>Comment: Why Israel's peaceniks feel betrayed</td>\n",
       "      <td>Court deals blow to seizure of drug assets</td>\n",
       "      <td>An ideal target for spooks</td>\n",
       "      <td>World steps between two sides intent on war</td>\n",
       "      <td>What the region's papers say</td>\n",
       "      <td>Comment: Fear and rage in Palestine</td>\n",
       "      <td>Poverty and resentment fuels Palestinian fury</td>\n",
       "      <td>Republican feud fear as dissident is killed</td>\n",
       "      <td>...</td>\n",
       "      <td>FTSE goes upwardly mobile</td>\n",
       "      <td>At this price?  BP Amoco</td>\n",
       "      <td>Go fish</td>\n",
       "      <td>Bosnian Serb blows himself up to evade law</td>\n",
       "      <td>Orange float delayed to 2001</td>\n",
       "      <td>Angry factory workers root out fear, favours a...</td>\n",
       "      <td>Smith defied advice on dome payout</td>\n",
       "      <td>Xerox takes the axe to jobs</td>\n",
       "      <td>Comment: Refugees in Britain</td>\n",
       "      <td>Maverick who sparked the new intifada</td>\n",
       "    </tr>\n",
       "    <tr>\n",
       "      <th>3</th>\n",
       "      <td>04-01-2010</td>\n",
       "      <td>1</td>\n",
       "      <td>£750,000-a-goal Weah aims parting shot</td>\n",
       "      <td>Newcastle pay for Fletcher years</td>\n",
       "      <td>Brown sent to the stands for Scotland qualifier</td>\n",
       "      <td>Tourists wary of breaking new ground</td>\n",
       "      <td>Canary Wharf climbs into the FTSE 100</td>\n",
       "      <td>Review: Bill Bailey</td>\n",
       "      <td>Review: Classical</td>\n",
       "      <td>Review: New Contemporaries 2000</td>\n",
       "      <td>...</td>\n",
       "      <td>More cash on way for counties</td>\n",
       "      <td>Cairns carries Kiwis to victory</td>\n",
       "      <td>Year of Blanchflower's flourish when Spurs sto...</td>\n",
       "      <td>New direct approach brings only pay-per-blues</td>\n",
       "      <td>Third Division  round-up</td>\n",
       "      <td>Second Division  round-up</td>\n",
       "      <td>First Division  round-up</td>\n",
       "      <td>McLean ends his career with a punch</td>\n",
       "      <td>Heskey grabs triple crown</td>\n",
       "      <td>Weah on his way as City march on</td>\n",
       "    </tr>\n",
       "    <tr>\n",
       "      <th>4</th>\n",
       "      <td>05-01-2010</td>\n",
       "      <td>1</td>\n",
       "      <td>Leeds arrive in Turkey to the silence of the fans</td>\n",
       "      <td>One woman's vision offers loan lifeline</td>\n",
       "      <td>Working Lives: How world leaders worked</td>\n",
       "      <td>Working Lives: Tricks of the trade</td>\n",
       "      <td>Working Lives: six-hour days, long lunches and...</td>\n",
       "      <td>Pop review: We Love UK</td>\n",
       "      <td>World music review: Marisa Monte</td>\n",
       "      <td>Art review:  Hollingsworth/Heyer</td>\n",
       "      <td>...</td>\n",
       "      <td>Duisenberg in double trouble</td>\n",
       "      <td>Pru to cut pension charges</td>\n",
       "      <td>Art review: Paul Graham</td>\n",
       "      <td>Shearer shot sparks Boro humiliation</td>\n",
       "      <td>Ridsdale's lingering fears as Leeds revisit Tu...</td>\n",
       "      <td>Champions League: Rangers v Galatasaray</td>\n",
       "      <td>Champions League: Lazio v Arsenal</td>\n",
       "      <td>Lazio 1 - 1 Arsenal</td>\n",
       "      <td>England in Pakistan</td>\n",
       "      <td>England given olive-branch reception</td>\n",
       "    </tr>\n",
       "  </tbody>\n",
       "</table>\n",
       "<p>5 rows × 27 columns</p>\n",
       "</div>"
      ],
      "text/plain": [
       "         Date  Label                                             News 1  \\\n",
       "0  01-01-2010      0           McIlroy's men catch cold from Gudjonsson   \n",
       "1  02-01-2010      0               Warning from history points to crash   \n",
       "2  03-01-2010      0      Comment: Why Israel's peaceniks feel betrayed   \n",
       "3  04-01-2010      1             £750,000-a-goal Weah aims parting shot   \n",
       "4  05-01-2010      1  Leeds arrive in Turkey to the silence of the fans   \n",
       "\n",
       "                                       News 2  \\\n",
       "0                       Obituary: Brian Walsh   \n",
       "1              Investors flee to dollar haven   \n",
       "2  Court deals blow to seizure of drug assets   \n",
       "3            Newcastle pay for Fletcher years   \n",
       "4     One woman's vision offers loan lifeline   \n",
       "\n",
       "                                            News 3  \\\n",
       "0       Workplace blues leave employers in the red   \n",
       "1                      Banks and tobacco in favour   \n",
       "2                       An ideal target for spooks   \n",
       "3  Brown sent to the stands for Scotland qualifier   \n",
       "4          Working Lives: How world leaders worked   \n",
       "\n",
       "                                        News 4  \\\n",
       "0                     Classical review: Rattle   \n",
       "1                        Review: Llama Farmers   \n",
       "2  World steps between two sides intent on war   \n",
       "3         Tourists wary of breaking new ground   \n",
       "4           Working Lives: Tricks of the trade   \n",
       "\n",
       "                                              News 5  \\\n",
       "0                     Dance review: Merce Cunningham   \n",
       "1                       War jitters lead to sell-off   \n",
       "2                       What the region's papers say   \n",
       "3              Canary Wharf climbs into the FTSE 100   \n",
       "4  Working Lives: six-hour days, long lunches and...   \n",
       "\n",
       "                                         News 6  \\\n",
       "0  Genetic tests to be used in setting premiums   \n",
       "1                    Your not-so-secret history   \n",
       "2           Comment: Fear and rage in Palestine   \n",
       "3                           Review: Bill Bailey   \n",
       "4                        Pop review: We Love UK   \n",
       "\n",
       "                                          News 7  \\\n",
       "0                        Opera review: La Bohème   \n",
       "1                  Review: The Northern Sinfonia   \n",
       "2  Poverty and resentment fuels Palestinian fury   \n",
       "3                              Review: Classical   \n",
       "4               World music review: Marisa Monte   \n",
       "\n",
       "                                        News 8  ...  \\\n",
       "0                   Pop review: Britney Spears  ...   \n",
       "1                             Review: Hysteria  ...   \n",
       "2  Republican feud fear as dissident is killed  ...   \n",
       "3              Review: New Contemporaries 2000  ...   \n",
       "4             Art review:  Hollingsworth/Heyer  ...   \n",
       "\n",
       "                                News 16                              News 17  \\\n",
       "0                 Finland 0 - 0 England                   Healy a marked man   \n",
       "1  Why Wenger will stick to his Gunners  Out of luck England hit rock bottom   \n",
       "2             FTSE goes upwardly mobile             At this price?  BP Amoco   \n",
       "3         More cash on way for counties      Cairns carries Kiwis to victory   \n",
       "4          Duisenberg in double trouble           Pru to cut pension charges   \n",
       "\n",
       "                                             News 18  \\\n",
       "0                     Happy birthday Harpers & Queen   \n",
       "1                         Wilkinson out of his depth   \n",
       "2                                            Go fish   \n",
       "3  Year of Blanchflower's flourish when Spurs sto...   \n",
       "4                            Art review: Paul Graham   \n",
       "\n",
       "                                             News 19  \\\n",
       "0  Win unlimited access to the Raindance film fes...   \n",
       "1                   Kinsella sparks Irish power play   \n",
       "2         Bosnian Serb blows himself up to evade law   \n",
       "3      New direct approach brings only pay-per-blues   \n",
       "4               Shearer shot sparks Boro humiliation   \n",
       "\n",
       "                                             News 20  \\\n",
       "0  Labour pledges £800m to bridge north-south divide   \n",
       "1                    Brown banished as Scots rebound   \n",
       "2                       Orange float delayed to 2001   \n",
       "3                           Third Division  round-up   \n",
       "4  Ridsdale's lingering fears as Leeds revisit Tu...   \n",
       "\n",
       "                                             News 21  \\\n",
       "0       Wales: Lib-Lab pact firm despite resignation   \n",
       "1                   Battling Wales cling to lifeline   \n",
       "2  Angry factory workers root out fear, favours a...   \n",
       "3                          Second Division  round-up   \n",
       "4            Champions League: Rangers v Galatasaray   \n",
       "\n",
       "                              News 22  \\\n",
       "0                        Donald Dewar   \n",
       "1   Ehiogu close to sealing Boro move   \n",
       "2  Smith defied advice on dome payout   \n",
       "3            First Division  round-up   \n",
       "4   Champions League: Lazio v Arsenal   \n",
       "\n",
       "                                             News 23  \\\n",
       "0  Regenerating homes  regenerates well-being in ...   \n",
       "1                                 Man-to-man marking   \n",
       "2                        Xerox takes the axe to jobs   \n",
       "3                McLean ends his career with a punch   \n",
       "4                                Lazio 1 - 1 Arsenal   \n",
       "\n",
       "                        News 24  \\\n",
       "0   Win £100 worth of underwear   \n",
       "1                   Match stats   \n",
       "2  Comment: Refugees in Britain   \n",
       "3     Heskey grabs triple crown   \n",
       "4           England in Pakistan   \n",
       "\n",
       "                                             News 25  \n",
       "0                             TV guide: Random views  \n",
       "1  French referee at centre of storm is no strang...  \n",
       "2              Maverick who sparked the new intifada  \n",
       "3                   Weah on his way as City march on  \n",
       "4               England given olive-branch reception  \n",
       "\n",
       "[5 rows x 27 columns]"
      ]
     },
     "execution_count": 8,
     "metadata": {},
     "output_type": "execute_result"
    }
   ],
   "source": [
    "df.head()"
   ]
  },
  {
   "cell_type": "markdown",
   "metadata": {
    "id": "ih4VMl3PuCG3"
   },
   "source": [
    "### Data Preprocessing"
   ]
  },
  {
   "cell_type": "code",
   "execution_count": 9,
   "metadata": {
    "id": "Bj31E_h9uHwg",
    "outputId": "409e049d-a416-410c-a9c0-7aed79a51220"
   },
   "outputs": [
    {
     "data": {
      "text/plain": [
       "\"Warning from history points to crash Investors flee to dollar haven Banks and tobacco in favour Review: Llama Farmers War jitters lead to sell-off Your not-so-secret history Review: The Northern Sinfonia Review: Hysteria Review: The Guardsman Opera: The Marriage of Figaro Review: The Turk in Italy Deutsche spells out its plans for diversification Traders' panic sends oil prices skyward TV sport chief leaves home over romance Leader: Hi-tech twitch Why Wenger will stick to his Gunners Out of luck England hit rock bottom Wilkinson out of his depth Kinsella sparks Irish power play Brown banished as Scots rebound Battling Wales cling to lifeline Ehiogu close to sealing Boro move Man-to-man marking Match stats French referee at centre of storm is no stranger to controversy\""
      ]
     },
     "execution_count": 9,
     "metadata": {},
     "output_type": "execute_result"
    }
   ],
   "source": [
    "' '.join(str(x) for x in df.iloc[1,2:27])"
   ]
  },
  {
   "cell_type": "code",
   "execution_count": 10,
   "metadata": {
    "id": "w24Ui7d_uKGx",
    "outputId": "60d7280d-6654-4ecf-8dae-03c761e23bc4"
   },
   "outputs": [
    {
     "data": {
      "text/plain": [
       "RangeIndex(start=0, stop=4101, step=1)"
      ]
     },
     "execution_count": 10,
     "metadata": {},
     "output_type": "execute_result"
    }
   ],
   "source": [
    "df.index"
   ]
  },
  {
   "cell_type": "code",
   "execution_count": 11,
   "metadata": {
    "id": "MUIDZTHTuMn6",
    "outputId": "a1cf1094-b2f2-4c8a-f1aa-6316b7dc4829"
   },
   "outputs": [
    {
     "data": {
      "text/plain": [
       "4101"
      ]
     },
     "execution_count": 11,
     "metadata": {},
     "output_type": "execute_result"
    }
   ],
   "source": [
    "len(df.index)"
   ]
  },
  {
   "cell_type": "code",
   "execution_count": 12,
   "metadata": {
    "id": "pbUvIy4_uOJl"
   },
   "outputs": [],
   "source": [
    "news = []"
   ]
  },
  {
   "cell_type": "code",
   "execution_count": 13,
   "metadata": {
    "id": "FL2GRsT0uPml"
   },
   "outputs": [],
   "source": [
    "for row in range(0, len(df.index)):\n",
    "  news.append(' '.join(str(x) for x in df.iloc[row, 2:27]))"
   ]
  },
  {
   "cell_type": "code",
   "execution_count": 14,
   "metadata": {
    "id": "A558DQ3CuRlN",
    "outputId": "2a68ded5-adf7-4873-821c-0d73f4df7409"
   },
   "outputs": [
    {
     "data": {
      "text/plain": [
       "list"
      ]
     },
     "execution_count": 14,
     "metadata": {},
     "output_type": "execute_result"
    }
   ],
   "source": [
    "type(news)"
   ]
  },
  {
   "cell_type": "code",
   "execution_count": 15,
   "metadata": {
    "id": "zFFwzAg8uTKw",
    "outputId": "d293d015-cd04-43b0-adb2-b8d71e1c9837"
   },
   "outputs": [
    {
     "data": {
      "text/plain": [
       "\"McIlroy's men catch cold from Gudjonsson Obituary: Brian Walsh Workplace blues leave employers in the red Classical review: Rattle Dance review: Merce Cunningham Genetic tests to be used in setting premiums Opera review: La Bohème Pop review: Britney Spears Theatre review: The Circle Wales face a fraught night Under-21  round-up Smith off to blot his copybook Finns taking the mickey Praise wasted as Brown studies injury options Ireland wary of minnows Finland 0 - 0 England Healy a marked man Happy birthday Harpers & Queen Win unlimited access to the Raindance film festival Labour pledges £800m to bridge north-south divide Wales: Lib-Lab pact firm despite resignation Donald Dewar Regenerating homes  regenerates well-being in people Win £100 worth of underwear TV guide: Random views\""
      ]
     },
     "execution_count": 15,
     "metadata": {},
     "output_type": "execute_result"
    }
   ],
   "source": [
    "news[0]\n"
   ]
  },
  {
   "cell_type": "code",
   "execution_count": 16,
   "metadata": {
    "id": "2ES3yKtKuVSa"
   },
   "outputs": [],
   "source": [
    "X = news"
   ]
  },
  {
   "cell_type": "code",
   "execution_count": 17,
   "metadata": {
    "id": "EsLhZ1URuWz2",
    "outputId": "37791e9b-faf3-450a-8567-55d3262e3ecf"
   },
   "outputs": [
    {
     "data": {
      "text/plain": [
       "list"
      ]
     },
     "execution_count": 17,
     "metadata": {},
     "output_type": "execute_result"
    }
   ],
   "source": [
    "type(X)"
   ]
  },
  {
   "cell_type": "code",
   "execution_count": 18,
   "metadata": {
    "id": "DEbJanQvuYbv"
   },
   "outputs": [],
   "source": [
    "from sklearn.feature_extraction.text import CountVectorizer"
   ]
  },
  {
   "cell_type": "code",
   "execution_count": 19,
   "metadata": {
    "id": "H3icvEpiueQL"
   },
   "outputs": [],
   "source": [
    "cv = CountVectorizer(lowercase=True, ngram_range = (1,1))"
   ]
  },
  {
   "cell_type": "code",
   "execution_count": 20,
   "metadata": {
    "id": "TvDPQr04ufrj"
   },
   "outputs": [],
   "source": [
    "X = cv.fit_transform(X)"
   ]
  },
  {
   "cell_type": "markdown",
   "metadata": {
    "id": "yFrLwqvEztDW"
   },
   "source": [
    "### Define Target Variable (y) and Feature Variables (X)"
   ]
  },
  {
   "cell_type": "code",
   "execution_count": 21,
   "metadata": {
    "id": "UuuHJ4Y6uhAo",
    "outputId": "0aff5cb8-b6fb-49d0-8fb8-e702e860b515"
   },
   "outputs": [
    {
     "data": {
      "text/plain": [
       "(4101, 48527)"
      ]
     },
     "execution_count": 21,
     "metadata": {},
     "output_type": "execute_result"
    }
   ],
   "source": [
    "X.shape"
   ]
  },
  {
   "cell_type": "code",
   "execution_count": 22,
   "metadata": {
    "id": "6HviZgzguiQI"
   },
   "outputs": [],
   "source": [
    "y = df['Label']"
   ]
  },
  {
   "cell_type": "code",
   "execution_count": 23,
   "metadata": {
    "id": "ZpHOMvYFukDo",
    "outputId": "030919b8-95f5-4d94-c1c4-e1ed5d838505"
   },
   "outputs": [
    {
     "data": {
      "text/plain": [
       "(4101,)"
      ]
     },
     "execution_count": 23,
     "metadata": {},
     "output_type": "execute_result"
    }
   ],
   "source": [
    "y.shape"
   ]
  },
  {
   "cell_type": "markdown",
   "metadata": {
    "id": "U4Z2N-KZun__"
   },
   "source": [
    "### Train Test Split"
   ]
  },
  {
   "cell_type": "code",
   "execution_count": 30,
   "metadata": {
    "id": "fPDZlZqiulhF"
   },
   "outputs": [],
   "source": [
    "from sklearn.model_selection import train_test_split"
   ]
  },
  {
   "cell_type": "code",
   "execution_count": 34,
   "metadata": {
    "id": "jpaJUIKTuq-b"
   },
   "outputs": [],
   "source": [
    "x_train, x_test, y_train, y_test = train_test_split(X, y, test_size=0.3, random_state=2529)"
   ]
  },
  {
   "cell_type": "markdown",
   "metadata": {
    "id": "FRUJwvfFz9UK"
   },
   "source": [
    "### Preparing Random Forest Classification Model"
   ]
  },
  {
   "cell_type": "code",
   "execution_count": 36,
   "metadata": {
    "id": "k7fmJ6GausZ-"
   },
   "outputs": [],
   "source": [
    "from sklearn.ensemble import RandomForestClassifier"
   ]
  },
  {
   "cell_type": "code",
   "execution_count": 37,
   "metadata": {
    "id": "dh-kanK-uyI2"
   },
   "outputs": [],
   "source": [
    "rf = RandomForestClassifier(n_estimators=200)"
   ]
  },
  {
   "cell_type": "code",
   "execution_count": 39,
   "metadata": {
    "id": "Hsv0ks88uzUc",
    "outputId": "02fbd561-ac8d-49cc-8a72-caaa98a6cb69"
   },
   "outputs": [
    {
     "name": "stderr",
     "output_type": "stream",
     "text": [
      "C:\\Users\\91995\\AppData\\Local\\Programs\\Python\\Python311\\Lib\\site-packages\\sklearn\\utils\\validation.py:605: FutureWarning: is_sparse is deprecated and will be removed in a future version. Check `isinstance(dtype, pd.SparseDtype)` instead.\n",
      "  if is_sparse(pd_dtype):\n",
      "C:\\Users\\91995\\AppData\\Local\\Programs\\Python\\Python311\\Lib\\site-packages\\sklearn\\utils\\validation.py:614: FutureWarning: is_sparse is deprecated and will be removed in a future version. Check `isinstance(dtype, pd.SparseDtype)` instead.\n",
      "  if is_sparse(pd_dtype) or not is_extension_array_dtype(pd_dtype):\n"
     ]
    },
    {
     "data": {
      "text/html": [
       "<style>#sk-container-id-3 {color: black;background-color: white;}#sk-container-id-3 pre{padding: 0;}#sk-container-id-3 div.sk-toggleable {background-color: white;}#sk-container-id-3 label.sk-toggleable__label {cursor: pointer;display: block;width: 100%;margin-bottom: 0;padding: 0.3em;box-sizing: border-box;text-align: center;}#sk-container-id-3 label.sk-toggleable__label-arrow:before {content: \"▸\";float: left;margin-right: 0.25em;color: #696969;}#sk-container-id-3 label.sk-toggleable__label-arrow:hover:before {color: black;}#sk-container-id-3 div.sk-estimator:hover label.sk-toggleable__label-arrow:before {color: black;}#sk-container-id-3 div.sk-toggleable__content {max-height: 0;max-width: 0;overflow: hidden;text-align: left;background-color: #f0f8ff;}#sk-container-id-3 div.sk-toggleable__content pre {margin: 0.2em;color: black;border-radius: 0.25em;background-color: #f0f8ff;}#sk-container-id-3 input.sk-toggleable__control:checked~div.sk-toggleable__content {max-height: 200px;max-width: 100%;overflow: auto;}#sk-container-id-3 input.sk-toggleable__control:checked~label.sk-toggleable__label-arrow:before {content: \"▾\";}#sk-container-id-3 div.sk-estimator input.sk-toggleable__control:checked~label.sk-toggleable__label {background-color: #d4ebff;}#sk-container-id-3 div.sk-label input.sk-toggleable__control:checked~label.sk-toggleable__label {background-color: #d4ebff;}#sk-container-id-3 input.sk-hidden--visually {border: 0;clip: rect(1px 1px 1px 1px);clip: rect(1px, 1px, 1px, 1px);height: 1px;margin: -1px;overflow: hidden;padding: 0;position: absolute;width: 1px;}#sk-container-id-3 div.sk-estimator {font-family: monospace;background-color: #f0f8ff;border: 1px dotted black;border-radius: 0.25em;box-sizing: border-box;margin-bottom: 0.5em;}#sk-container-id-3 div.sk-estimator:hover {background-color: #d4ebff;}#sk-container-id-3 div.sk-parallel-item::after {content: \"\";width: 100%;border-bottom: 1px solid gray;flex-grow: 1;}#sk-container-id-3 div.sk-label:hover label.sk-toggleable__label {background-color: #d4ebff;}#sk-container-id-3 div.sk-serial::before {content: \"\";position: absolute;border-left: 1px solid gray;box-sizing: border-box;top: 0;bottom: 0;left: 50%;z-index: 0;}#sk-container-id-3 div.sk-serial {display: flex;flex-direction: column;align-items: center;background-color: white;padding-right: 0.2em;padding-left: 0.2em;position: relative;}#sk-container-id-3 div.sk-item {position: relative;z-index: 1;}#sk-container-id-3 div.sk-parallel {display: flex;align-items: stretch;justify-content: center;background-color: white;position: relative;}#sk-container-id-3 div.sk-item::before, #sk-container-id-3 div.sk-parallel-item::before {content: \"\";position: absolute;border-left: 1px solid gray;box-sizing: border-box;top: 0;bottom: 0;left: 50%;z-index: -1;}#sk-container-id-3 div.sk-parallel-item {display: flex;flex-direction: column;z-index: 1;position: relative;background-color: white;}#sk-container-id-3 div.sk-parallel-item:first-child::after {align-self: flex-end;width: 50%;}#sk-container-id-3 div.sk-parallel-item:last-child::after {align-self: flex-start;width: 50%;}#sk-container-id-3 div.sk-parallel-item:only-child::after {width: 0;}#sk-container-id-3 div.sk-dashed-wrapped {border: 1px dashed gray;margin: 0 0.4em 0.5em 0.4em;box-sizing: border-box;padding-bottom: 0.4em;background-color: white;}#sk-container-id-3 div.sk-label label {font-family: monospace;font-weight: bold;display: inline-block;line-height: 1.2em;}#sk-container-id-3 div.sk-label-container {text-align: center;}#sk-container-id-3 div.sk-container {/* jupyter's `normalize.less` sets `[hidden] { display: none; }` but bootstrap.min.css set `[hidden] { display: none !important; }` so we also need the `!important` here to be able to override the default hidden behavior on the sphinx rendered scikit-learn.org. See: https://github.com/scikit-learn/scikit-learn/issues/21755 */display: inline-block !important;position: relative;}#sk-container-id-3 div.sk-text-repr-fallback {display: none;}</style><div id=\"sk-container-id-3\" class=\"sk-top-container\"><div class=\"sk-text-repr-fallback\"><pre>RandomForestClassifier(n_estimators=200)</pre><b>In a Jupyter environment, please rerun this cell to show the HTML representation or trust the notebook. <br />On GitHub, the HTML representation is unable to render, please try loading this page with nbviewer.org.</b></div><div class=\"sk-container\" hidden><div class=\"sk-item\"><div class=\"sk-estimator sk-toggleable\"><input class=\"sk-toggleable__control sk-hidden--visually\" id=\"sk-estimator-id-3\" type=\"checkbox\" checked><label for=\"sk-estimator-id-3\" class=\"sk-toggleable__label sk-toggleable__label-arrow\">RandomForestClassifier</label><div class=\"sk-toggleable__content\"><pre>RandomForestClassifier(n_estimators=200)</pre></div></div></div></div></div>"
      ],
      "text/plain": [
       "RandomForestClassifier(n_estimators=200)"
      ]
     },
     "execution_count": 39,
     "metadata": {},
     "output_type": "execute_result"
    }
   ],
   "source": [
    "rf.fit(x_train, y_train)\n"
   ]
  },
  {
   "cell_type": "markdown",
   "metadata": {
    "id": "Ld-lzknx0Czu"
   },
   "source": [
    "### Prediction"
   ]
  },
  {
   "cell_type": "code",
   "execution_count": null,
   "metadata": {
    "id": "WP7mLmxYu1YR"
   },
   "outputs": [],
   "source": [
    "y_pred = rf.predict(x_test)"
   ]
  },
  {
   "cell_type": "markdown",
   "metadata": {
    "id": "0N2V3SZ90Izy"
   },
   "source": [
    "### Model Evaluation"
   ]
  },
  {
   "cell_type": "code",
   "execution_count": null,
   "metadata": {
    "id": "0Au8tWCUu6va"
   },
   "outputs": [],
   "source": [
    "from sklearn.metrics import classification_report, confusion_matrix, accuracy_score"
   ]
  },
  {
   "cell_type": "code",
   "execution_count": null,
   "metadata": {
    "id": "cfHDTvCJu8T2",
    "outputId": "358b0fb2-a53e-4793-aa19-4e77aa559a2d"
   },
   "outputs": [],
   "source": [
    "confusion_matrix(y_test,y_pred)"
   ]
  },
  {
   "cell_type": "code",
   "execution_count": null,
   "metadata": {
    "id": "JibSrFyjvDAL",
    "outputId": "48935c32-d2f8-4a09-d5d5-ff709661c24f"
   },
   "outputs": [],
   "source": [
    "print(classification_report(y_test, y_pred))"
   ]
  },
  {
   "cell_type": "code",
   "execution_count": null,
   "metadata": {
    "id": "tPdZFqXwvExp",
    "outputId": "4ab8a6a3-2edf-4a63-f32f-de3acbfdf301"
   },
   "outputs": [],
   "source": [
    "accuracy_score(y_test,y_pred)"
   ]
  },
  {
   "cell_type": "markdown",
   "metadata": {
    "id": "REMoJgvm0N5V"
   },
   "source": [
    "### Explaination\n",
    "#### For each day, all news are combined into a single text piece. Then, important feature are extracted from the texts.After extraction, we define feature and target variables which will be splited for training and test.A random forest classifier model is developed , trained. Model is evaluated using various metrics by comapring predictions with actual test results."
   ]
  }
 ],
 "metadata": {
  "kernelspec": {
   "display_name": "Python 3 (ipykernel)",
   "language": "python",
   "name": "python3"
  },
  "language_info": {
   "codemirror_mode": {
    "name": "ipython",
    "version": 3
   },
   "file_extension": ".py",
   "mimetype": "text/x-python",
   "name": "python",
   "nbconvert_exporter": "python",
   "pygments_lexer": "ipython3",
   "version": "3.11.2"
  }
 },
 "nbformat": 4,
 "nbformat_minor": 4
}
